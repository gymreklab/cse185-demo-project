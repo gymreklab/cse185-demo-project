{
 "cells": [
  {
   "cell_type": "code",
   "execution_count": 1,
   "id": "9fa335db",
   "metadata": {},
   "outputs": [],
   "source": [
    "import mypileup.myutils"
   ]
  },
  {
   "cell_type": "code",
   "execution_count": 8,
   "id": "c2753429",
   "metadata": {},
   "outputs": [
    {
     "name": "stdout",
     "output_type": "stream",
     "text": [
      "CPU times: user 8 µs, sys: 1 µs, total: 9 µs\n",
      "Wall time: 12.2 µs\n"
     ]
    }
   ],
   "source": [
    "# Reports how long this function took to run\n",
    "%time x = mypileup.myutils.GetQual(0)"
   ]
  },
  {
   "cell_type": "code",
   "execution_count": 9,
   "id": "6eb5536d",
   "metadata": {},
   "outputs": [
    {
     "name": "stdout",
     "output_type": "stream",
     "text": [
      "153 ns ± 2.37 ns per loop (mean ± std. dev. of 7 runs, 10000000 loops each)\n"
     ]
    }
   ],
   "source": [
    "# Calls the function many times\n",
    "# Reports average\n",
    "%timeit x = mypileup.myutils.GetQual(0)"
   ]
  }
 ],
 "metadata": {
  "kernelspec": {
   "display_name": "Python 3 (ipykernel)",
   "language": "python",
   "name": "python3"
  },
  "language_info": {
   "codemirror_mode": {
    "name": "ipython",
    "version": 3
   },
   "file_extension": ".py",
   "mimetype": "text/x-python",
   "name": "python",
   "nbconvert_exporter": "python",
   "pygments_lexer": "ipython3",
   "version": "3.9.12"
  }
 },
 "nbformat": 4,
 "nbformat_minor": 5
}
